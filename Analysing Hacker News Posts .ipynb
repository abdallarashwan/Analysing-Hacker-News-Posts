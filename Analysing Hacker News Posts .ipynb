{
 "cells": [
  {
   "cell_type": "markdown",
   "metadata": {},
   "source": [
    "# Analysing Hacker News Posts\n",
    "\n",
    "Hacker News is a social news website created by [Y Combinator](https://www.ycombinator.com/) which is a seed money startup accelerator headquartered in the United States. [Hacker News](https://news.ycombinator.com/) is specially popular in tech startup scene. People can make different types of posts and users can up/down vote the posts as well as make comments.\n",
    "\n",
    "The posts that get the highest number of points (up votes - down votes) end up appearing on top and as a result can get high traffic of thousands of users.\n",
    "\n",
    "In this project, we are going to focus on two types of posts:\n",
    "- __Ask HN__: posts of specific questions to the Hacker News community.\n",
    "- __Show HN__: posts to share with the Hacker News community a product or an interesting project/idea.\n",
    "\n",
    "The aim of this project is to answer the following questions:\n",
    "- Which of the two types of posts mentioned earlier recieve a higher number of comments on average?\n",
    "- Does posts made on a certain time recieve more comments on average?\n",
    "\n",
    "For our analysis we are going to use the [Hacker News Posts](https://www.kaggle.com/hacker-news/hacker-news-posts)\n",
    "data set which contains information about the posts for one year.\n",
    "\n",
    "The data set can be downloaded [here](https://www.kaggle.com/hacker-news/hacker-news-posts/download).\n",
    "\n",
    "Following are the different columns in the data set with their description:\n",
    "- `title`: title of the post (self explanatory)\n",
    "- `url`: the url of the item being linked to\n",
    "- `num_points`: the number of upvotes the post received\n",
    "- `num_comments`: the number of comments the post received\n",
    "- `author`: the name of the account that made the post\n",
    "- `created_at`: the date and time the post was made (the time zone is Eastern Time in the US)\n"
   ]
  },
  {
   "cell_type": "markdown",
   "metadata": {},
   "source": [
    "## Exploring the Data Set\n",
    "\n",
    "First, we start by opening the data set and exploring the data."
   ]
  },
  {
   "cell_type": "code",
   "execution_count": 1,
   "metadata": {},
   "outputs": [],
   "source": [
    "from csv import reader \n",
    "opened_file = open(\"/Users/abdallarashwan/Documents/Python Projects/Datasets/HN_posts_year_to_Sep_26_2016.csv\")\n",
    "read_file = reader(opened_file)\n",
    "hn = list(read_file)\n",
    "hn_data = hn[1:]\n",
    "hn_header = hn[0]"
   ]
  },
  {
   "cell_type": "markdown",
   "metadata": {},
   "source": [
    "Following we define the function `explore_first_five()` which prints the first five rows of data.\n",
    "The function arguments are:\n",
    "- dataset: the data set to be used as a list.\n",
    "- num_col: boolean to print the number of rows in the data set."
   ]
  },
  {
   "cell_type": "code",
   "execution_count": 2,
   "metadata": {},
   "outputs": [],
   "source": [
    "def explore_first_five(dataset, num_col = True):\n",
    "    for row in dataset[:5]:\n",
    "        print(row)\n",
    "    print(\"\\n\")\n",
    "    if num_col:\n",
    "        print(\"Number of rows: \",len(dataset))"
   ]
  },
  {
   "cell_type": "markdown",
   "metadata": {},
   "source": [
    "Now let's explore the data set as following:"
   ]
  },
  {
   "cell_type": "code",
   "execution_count": 3,
   "metadata": {},
   "outputs": [
    {
     "name": "stdout",
     "output_type": "stream",
     "text": [
      "['id', 'title', 'url', 'num_points', 'num_comments', 'author', 'created_at']\n",
      "\n",
      "\n",
      "['12579008', 'You have two days to comment if you want stem cells to be classified as your own', 'http://www.regulations.gov/document?D=FDA-2015-D-3719-0018', '1', '0', 'altstar', '9/26/2016 3:26']\n",
      "['12579005', 'SQLAR  the SQLite Archiver', 'https://www.sqlite.org/sqlar/doc/trunk/README.md', '1', '0', 'blacksqr', '9/26/2016 3:24']\n",
      "['12578997', 'What if we just printed a flatscreen television on the side of our boxes?', 'https://medium.com/vanmoof/our-secrets-out-f21c1f03fdc8#.ietxmez43', '1', '0', 'pavel_lishin', '9/26/2016 3:19']\n",
      "['12578989', 'algorithmic music', 'http://cacm.acm.org/magazines/2011/7/109891-algorithmic-composition/fulltext', '1', '0', 'poindontcare', '9/26/2016 3:16']\n",
      "['12578979', 'How the Data Vault Enables the Next-Gen Data Warehouse and Data Lake', 'https://www.talend.com/blog/2016/05/12/talend-and-Â\\x93the-data-vaultÂ\\x94', '1', '0', 'markgainor1', '9/26/2016 3:14']\n",
      "\n",
      "\n",
      "Number of rows:  293119\n"
     ]
    }
   ],
   "source": [
    "print(hn_header)\n",
    "print(\"\\n\")\n",
    "explore_first_five(hn_data)"
   ]
  },
  {
   "cell_type": "markdown",
   "metadata": {},
   "source": [
    "## Data Cleaning\n",
    "\n",
    "Since we are only interested in data of the posts that recieve comments from the users, let's remove all data rows which has no comments (`num_comments`=0)."
   ]
  },
  {
   "cell_type": "code",
   "execution_count": 4,
   "metadata": {},
   "outputs": [
    {
     "name": "stdout",
     "output_type": "stream",
     "text": [
      "['12578975', 'Saving the Hassle of Shopping', 'https://blog.menswr.com/2016/09/07/whats-new-with-your-style-feed/', '1', '1', 'bdoux', '9/26/2016 3:13']\n",
      "['12578908', 'Ask HN: What TLD do you use for local development?', '', '4', '7', 'Sevrene', '9/26/2016 2:53']\n",
      "['12578822', 'Amazons Algorithms Dont Find You the Best Deals', 'https://www.technologyreview.com/s/602442/amazons-algorithms-dont-find-you-the-best-deals/', '1', '1', 'yarapavan', '9/26/2016 2:26']\n",
      "['12578694', 'Emergency dose of epinephrine that does not cost an arm and a leg', 'http://m.imgur.com/gallery/th6Ua', '2', '1', 'dredmorbius', '9/26/2016 1:54']\n",
      "['12578624', 'Phone Makers Could Cut Off Drivers. So Why Dont They?', 'http://www.nytimes.com/2016/09/25/technology/phone-makers-could-cut-off-drivers-so-why-dont-they.html', '4', '1', 'danso', '9/26/2016 1:37']\n",
      "\n",
      "\n",
      "Number of rows:  80401\n"
     ]
    }
   ],
   "source": [
    "hn_data_commented = []\n",
    "for row in hn_data:\n",
    "    num_comments = int(row[4])\n",
    "    if num_comments != 0:\n",
    "        hn_data_commented.append(row)\n",
    "explore_first_five(hn_data_commented)"
   ]
  },
  {
   "cell_type": "markdown",
   "metadata": {},
   "source": [
    "Next, we seperate the `Ask HN`, `Show HN` and `other` posts.\n",
    "The type of the post can be determined from the `title` column.\n",
    "\n",
    "Following, we create three different lists, each for one of the following types of posts: Ask HN, Show HN and other.\n",
    "we do so by checking the start of the title of each post and then assign it to the corresponding list."
   ]
  },
  {
   "cell_type": "code",
   "execution_count": 5,
   "metadata": {},
   "outputs": [
    {
     "name": "stdout",
     "output_type": "stream",
     "text": [
      "['12578908', 'Ask HN: What TLD do you use for local development?', '', '4', '7', 'Sevrene', '9/26/2016 2:53']\n",
      "['12578522', 'Ask HN: How do you pass on your work when you die?', '', '6', '3', 'PascLeRasc', '9/26/2016 1:17']\n",
      "['12577870', 'Ask HN: Why join a fund when you can be an angel?', '', '1', '3', 'anthony_james', '9/25/2016 22:48']\n",
      "['12577647', 'Ask HN: Someone uses stock trading as passive income?', '', '5', '2', '00taffe', '9/25/2016 21:50']\n",
      "['12576946', 'Ask HN: How hard would it be to make a cheap, hackable phone?', '', '2', '1', 'hkt', '9/25/2016 19:30']\n",
      "\n",
      "\n",
      "Number of rows:  6899\n",
      "['12577142', 'Show HN: Jumble  Essays on the go #PaulInYourPocket', 'https://itunes.apple.com/us/app/jumble-find-startup-essay/id1150939197?ls=1&mt=8', '1', '1', 'ryderj', '9/25/2016 20:06']\n",
      "['12576813', 'Show HN: Learn Japanese Vocab via multiple choice questions', 'http://japanese.vul.io/', '1', '1', 'soulchild37', '9/25/2016 19:06']\n",
      "['12576090', 'Show HN: Markov chain Twitter bot. Trained on comments left on Pornhub', 'https://twitter.com/botsonasty', '3', '1', 'keepingscore', '9/25/2016 16:50']\n",
      "['12575471', 'Show HN: Project-Okot: Novel, CODE-FREE data-apps in mere seconds', 'https://studio.nuchwezi.com/', '3', '1', 'nfixx', '9/25/2016 14:30']\n",
      "['12574773', 'Show HN: Cursor that Screenshot', 'http://edward.codes/cursor-that-screenshot', '3', '3', 'ed-bit', '9/25/2016 10:50']\n",
      "\n",
      "\n",
      "Number of rows:  5052\n",
      "['12578975', 'Saving the Hassle of Shopping', 'https://blog.menswr.com/2016/09/07/whats-new-with-your-style-feed/', '1', '1', 'bdoux', '9/26/2016 3:13']\n",
      "['12578822', 'Amazons Algorithms Dont Find You the Best Deals', 'https://www.technologyreview.com/s/602442/amazons-algorithms-dont-find-you-the-best-deals/', '1', '1', 'yarapavan', '9/26/2016 2:26']\n",
      "['12578694', 'Emergency dose of epinephrine that does not cost an arm and a leg', 'http://m.imgur.com/gallery/th6Ua', '2', '1', 'dredmorbius', '9/26/2016 1:54']\n",
      "['12578624', 'Phone Makers Could Cut Off Drivers. So Why Dont They?', 'http://www.nytimes.com/2016/09/25/technology/phone-makers-could-cut-off-drivers-so-why-dont-they.html', '4', '1', 'danso', '9/26/2016 1:37']\n",
      "['12578556', 'OpenMW, Open Source Elderscrolls III: Morrowind Reimplementation', 'https://openmw.org/en/', '32', '3', 'rocky1138', '9/26/2016 1:24']\n",
      "\n",
      "\n",
      "Number of rows:  68450\n"
     ]
    }
   ],
   "source": [
    "ask_posts = []\n",
    "show_posts = []\n",
    "other_posts = []\n",
    "for post in hn_data_commented:\n",
    "    title = post[1]\n",
    "    if title.startswith(\"Ask HN\"):\n",
    "        ask_posts.append(post)\n",
    "    elif title.startswith(\"Show HN\"):\n",
    "        show_posts.append(post)\n",
    "    else:\n",
    "        other_posts.append(post)\n",
    "explore_first_five(ask_posts)\n",
    "explore_first_five(show_posts)\n",
    "explore_first_five(other_posts)"
   ]
  },
  {
   "cell_type": "markdown",
   "metadata": {},
   "source": [
    "## Average Number of Comments\n",
    "\n",
    "Next, we calculate the average number of comments for each type of posts.\n",
    "\n",
    "The `num_comments` column is at index 4\n",
    "\n",
    "## _Ask HN_ Average Number of Comments "
   ]
  },
  {
   "cell_type": "code",
   "execution_count": 6,
   "metadata": {},
   "outputs": [],
   "source": [
    "total_ask_comments = 0\n",
    "for post in ask_posts:\n",
    "    num_comments = int(post[4])\n",
    "    total_ask_comments += num_comments\n",
    "avg_ask_comments = total_ask_comments / len(ask_posts)"
   ]
  },
  {
   "cell_type": "code",
   "execution_count": 7,
   "metadata": {},
   "outputs": [
    {
     "name": "stdout",
     "output_type": "stream",
     "text": [
      "13.759965212349616\n"
     ]
    }
   ],
   "source": [
    "print(avg_ask_comments)"
   ]
  },
  {
   "cell_type": "markdown",
   "metadata": {},
   "source": [
    "## _Show HN_ Average Number of Comments "
   ]
  },
  {
   "cell_type": "code",
   "execution_count": 8,
   "metadata": {},
   "outputs": [],
   "source": [
    "total_show_comments = 0\n",
    "for post in show_posts:\n",
    "    num_comments = int(post[4])\n",
    "    total_show_comments += num_comments\n",
    "avg_show_comments = total_show_comments / len(show_posts)"
   ]
  },
  {
   "cell_type": "code",
   "execution_count": 9,
   "metadata": {},
   "outputs": [
    {
     "name": "stdout",
     "output_type": "stream",
     "text": [
      "9.82125890736342\n"
     ]
    }
   ],
   "source": [
    "print(avg_show_comments)"
   ]
  },
  {
   "cell_type": "markdown",
   "metadata": {},
   "source": [
    "As we can see, on average the Ask HN posts recieve a higher number of comments from the users."
   ]
  },
  {
   "cell_type": "markdown",
   "metadata": {},
   "source": [
    "# Time Frequency Table\n",
    "\n",
    "Next, we will analyse the data for Ask HN posts in order to determine if posts created at a certain time recieve more comments.\n",
    "\n",
    "## First Step\n",
    "\n",
    "In the following step, we find the posts made on each time of the day (hour) and the totall number of comments they recieved by first parsing the data in `created_at` to datetime object.\n"
   ]
  },
  {
   "cell_type": "code",
   "execution_count": 10,
   "metadata": {},
   "outputs": [],
   "source": [
    "import datetime as dt\n",
    "for post in ask_posts:\n",
    "    date_time_str = post[-1]\n",
    "    post[-1] = dt.datetime.strptime(date_time_str, \"%m/%d/%Y %H:%M\")\n"
   ]
  },
  {
   "cell_type": "code",
   "execution_count": 11,
   "metadata": {},
   "outputs": [
    {
     "name": "stdout",
     "output_type": "stream",
     "text": [
      "2016-09-26 02:53:00 <class 'datetime.datetime'>\n"
     ]
    }
   ],
   "source": [
    "print(ask_posts[0][-1],type(ask_posts[0][-1]))\n"
   ]
  },
  {
   "cell_type": "code",
   "execution_count": 12,
   "metadata": {},
   "outputs": [],
   "source": [
    "posts_per_hour = {}\n",
    "comments_per_hour = {}\n",
    "for post in ask_posts:\n",
    "    hour = post[-1].strftime(\"%H\")\n",
    "    if hour in posts_per_hour:\n",
    "        posts_per_hour[hour] += 1 \n",
    "        comments_per_hour[hour] += int(post[4])\n",
    "    else:\n",
    "        posts_per_hour[hour] = 1\n",
    "        comments_per_hour[hour] = int(post[4])\n",
    "        \n"
   ]
  },
  {
   "cell_type": "code",
   "execution_count": 13,
   "metadata": {},
   "outputs": [
    {
     "name": "stdout",
     "output_type": "stream",
     "text": [
      "{'02': 227, '01': 223, '22': 286, '21': 407, '19': 420, '17': 404, '15': 467, '14': 377, '13': 324, '11': 250, '10': 219, '09': 176, '07': 156, '03': 211, '16': 414, '08': 190, '00': 229, '23': 276, '20': 392, '18': 451, '12': 274, '04': 185, '06': 176, '05': 165}\n"
     ]
    }
   ],
   "source": [
    "print(posts_per_hour)"
   ]
  },
  {
   "cell_type": "code",
   "execution_count": 14,
   "metadata": {},
   "outputs": [
    {
     "name": "stdout",
     "output_type": "stream",
     "text": [
      "{'02': 2996, '01': 2089, '22': 3369, '21': 4500, '19': 3954, '17': 5547, '15': 18525, '14': 4970, '13': 7227, '11': 2794, '10': 3013, '09': 1477, '07': 1584, '03': 2153, '16': 4461, '08': 2362, '00': 2265, '23': 2297, '20': 4462, '18': 4868, '12': 4234, '04': 2358, '06': 1587, '05': 1838}\n"
     ]
    }
   ],
   "source": [
    "print(comments_per_hour)"
   ]
  },
  {
   "cell_type": "code",
   "execution_count": 15,
   "metadata": {},
   "outputs": [],
   "source": [
    "avg_comments_per_hour = []\n",
    "for hour in posts_per_hour:\n",
    "    avg_comments_per_hour.append([hour, comments_per_hour[hour]/posts_per_hour[hour]])"
   ]
  },
  {
   "cell_type": "code",
   "execution_count": 16,
   "metadata": {},
   "outputs": [
    {
     "name": "stdout",
     "output_type": "stream",
     "text": [
      "[['02', 13.198237885462555], ['01', 9.367713004484305], ['22', 11.77972027972028], ['21', 11.056511056511056], ['19', 9.414285714285715], ['17', 13.73019801980198], ['15', 39.66809421841542], ['14', 13.183023872679046], ['13', 22.305555555555557], ['11', 11.176], ['10', 13.757990867579908], ['09', 8.392045454545455], ['07', 10.153846153846153], ['03', 10.203791469194313], ['16', 10.77536231884058], ['08', 12.43157894736842], ['00', 9.890829694323145], ['23', 8.322463768115941], ['20', 11.38265306122449], ['18', 10.793791574279378], ['12', 15.452554744525548], ['04', 12.745945945945946], ['06', 9.017045454545455], ['05', 11.139393939393939]]\n"
     ]
    }
   ],
   "source": [
    "print(avg_comments_per_hour)"
   ]
  },
  {
   "cell_type": "markdown",
   "metadata": {},
   "source": [
    "Next we swap the two elements (the hour and avg num of comments) in each list in order to use the `sorted()` built-in function to order the data in a descinding order of the number of average comments per hour."
   ]
  },
  {
   "cell_type": "code",
   "execution_count": 17,
   "metadata": {},
   "outputs": [],
   "source": [
    "swap_avg_comments_per_hour = []\n",
    "for element in avg_comments_per_hour:\n",
    "    swap_avg_comments_per_hour.append([element[1], element[0]])\n",
    "    "
   ]
  },
  {
   "cell_type": "code",
   "execution_count": 18,
   "metadata": {},
   "outputs": [
    {
     "name": "stdout",
     "output_type": "stream",
     "text": [
      "[[13.198237885462555, '02'], [9.367713004484305, '01'], [11.77972027972028, '22'], [11.056511056511056, '21'], [9.414285714285715, '19'], [13.73019801980198, '17'], [39.66809421841542, '15'], [13.183023872679046, '14'], [22.305555555555557, '13'], [11.176, '11'], [13.757990867579908, '10'], [8.392045454545455, '09'], [10.153846153846153, '07'], [10.203791469194313, '03'], [10.77536231884058, '16'], [12.43157894736842, '08'], [9.890829694323145, '00'], [8.322463768115941, '23'], [11.38265306122449, '20'], [10.793791574279378, '18'], [15.452554744525548, '12'], [12.745945945945946, '04'], [9.017045454545455, '06'], [11.139393939393939, '05']]\n"
     ]
    }
   ],
   "source": [
    "print(swap_avg_comments_per_hour)"
   ]
  },
  {
   "cell_type": "markdown",
   "metadata": {},
   "source": [
    "Following, the swapped list is sorted in a DESC order."
   ]
  },
  {
   "cell_type": "code",
   "execution_count": 19,
   "metadata": {},
   "outputs": [],
   "source": [
    "sorted_res = sorted(swap_avg_comments_per_hour, reverse = True)"
   ]
  },
  {
   "cell_type": "code",
   "execution_count": 20,
   "metadata": {
    "scrolled": true
   },
   "outputs": [
    {
     "name": "stdout",
     "output_type": "stream",
     "text": [
      "[[39.66809421841542, '15'], [22.305555555555557, '13'], [15.452554744525548, '12'], [13.757990867579908, '10'], [13.73019801980198, '17'], [13.198237885462555, '02'], [13.183023872679046, '14'], [12.745945945945946, '04'], [12.43157894736842, '08'], [11.77972027972028, '22'], [11.38265306122449, '20'], [11.176, '11'], [11.139393939393939, '05'], [11.056511056511056, '21'], [10.793791574279378, '18'], [10.77536231884058, '16'], [10.203791469194313, '03'], [10.153846153846153, '07'], [9.890829694323145, '00'], [9.414285714285715, '19'], [9.367713004484305, '01'], [9.017045454545455, '06'], [8.392045454545455, '09'], [8.322463768115941, '23']]\n"
     ]
    }
   ],
   "source": [
    "print(sorted_res)"
   ]
  },
  {
   "cell_type": "markdown",
   "metadata": {},
   "source": [
    "Next, let's format our data in a more readable way."
   ]
  },
  {
   "cell_type": "code",
   "execution_count": 39,
   "metadata": {},
   "outputs": [
    {
     "name": "stdout",
     "output_type": "stream",
     "text": [
      "15:00: 39.67 average comments per post\n",
      "13:00: 22.31 average comments per post\n",
      "12:00: 15.45 average comments per post\n",
      "10:00: 13.76 average comments per post\n",
      "17:00: 13.73 average comments per post\n",
      "02:00: 13.20 average comments per post\n",
      "14:00: 13.18 average comments per post\n",
      "04:00: 12.75 average comments per post\n",
      "08:00: 12.43 average comments per post\n",
      "22:00: 11.78 average comments per post\n",
      "20:00: 11.38 average comments per post\n",
      "11:00: 11.18 average comments per post\n",
      "05:00: 11.14 average comments per post\n",
      "21:00: 11.06 average comments per post\n",
      "18:00: 10.79 average comments per post\n",
      "16:00: 10.78 average comments per post\n",
      "03:00: 10.20 average comments per post\n",
      "07:00: 10.15 average comments per post\n",
      "00:00: 9.89 average comments per post\n",
      "19:00: 9.41 average comments per post\n",
      "01:00: 9.37 average comments per post\n",
      "06:00: 9.02 average comments per post\n",
      "09:00: 8.39 average comments per post\n",
      "23:00: 8.32 average comments per post\n"
     ]
    }
   ],
   "source": [
    "for e in sorted_res:\n",
    "    print(\"{}: {:.2f} average comments per post\".format(dt.datetime.strptime(e[1], \"%H\").strftime(\"%H:%M\"), e[0]))"
   ]
  },
  {
   "cell_type": "markdown",
   "metadata": {},
   "source": [
    "From the results obtained, we can see that Ask HN posts made around mid day (from 13:00 to 15:00) with highest average number of comments occuring at 15:00 "
   ]
  },
  {
   "cell_type": "code",
   "execution_count": null,
   "metadata": {},
   "outputs": [],
   "source": []
  }
 ],
 "metadata": {
  "kernelspec": {
   "display_name": "Python 3",
   "language": "python",
   "name": "python3"
  },
  "language_info": {
   "codemirror_mode": {
    "name": "ipython",
    "version": 3
   },
   "file_extension": ".py",
   "mimetype": "text/x-python",
   "name": "python",
   "nbconvert_exporter": "python",
   "pygments_lexer": "ipython3",
   "version": "3.7.6"
  }
 },
 "nbformat": 4,
 "nbformat_minor": 4
}
